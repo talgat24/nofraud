{
 "cells": [
  {
   "cell_type": "markdown",
   "id": "dba68388",
   "metadata": {},
   "source": [
    "# EDA\n",
    "\n",
    "Create your own EDA below/ Create as many code-blocks as you need.\n",
    "\n",
    "Once you've completed your EDA, complete the section titled **Reflections** where you will answer questions about your EDA.\n",
    "\n",
    "**Note**: Since this dataset is large, visualizations might load slower. You may want to consider using the `sample()` method if this dataset is too large for your computer to process in a reasonable amount of time."
   ]
  },
  {
   "cell_type": "code",
   "execution_count": 1,
   "id": "0a42d7d8",
   "metadata": {},
   "outputs": [],
   "source": [
    "import pandas as pd \n",
    "import numpy as np\n",
    "\n",
    "import seaborn as sns\n",
    "import matplotlib.pyplot as plt"
   ]
  },
  {
   "cell_type": "code",
   "execution_count": 19,
   "id": "95ac8ec2",
   "metadata": {},
   "outputs": [
    {
     "data": {
      "text/html": [
       "<div>\n",
       "<style scoped>\n",
       "    .dataframe tbody tr th:only-of-type {\n",
       "        vertical-align: middle;\n",
       "    }\n",
       "\n",
       "    .dataframe tbody tr th {\n",
       "        vertical-align: top;\n",
       "    }\n",
       "\n",
       "    .dataframe thead th {\n",
       "        text-align: right;\n",
       "    }\n",
       "</style>\n",
       "<table border=\"1\" class=\"dataframe\">\n",
       "  <thead>\n",
       "    <tr style=\"text-align: right;\">\n",
       "      <th></th>\n",
       "      <th>type</th>\n",
       "      <th>amount</th>\n",
       "      <th>nameOrig</th>\n",
       "      <th>oldbalanceOrg</th>\n",
       "      <th>newbalanceOrig</th>\n",
       "      <th>nameDest</th>\n",
       "      <th>oldbalanceDest</th>\n",
       "      <th>newbalanceDest</th>\n",
       "      <th>isFraud</th>\n",
       "      <th>isFlaggedFraud</th>\n",
       "    </tr>\n",
       "  </thead>\n",
       "  <tbody>\n",
       "    <tr>\n",
       "      <th>0</th>\n",
       "      <td>CASH_IN</td>\n",
       "      <td>63516.66</td>\n",
       "      <td>C4651324</td>\n",
       "      <td>54465.00</td>\n",
       "      <td>117981.66</td>\n",
       "      <td>C1850473537</td>\n",
       "      <td>0.00</td>\n",
       "      <td>0.00</td>\n",
       "      <td>0</td>\n",
       "      <td>0</td>\n",
       "    </tr>\n",
       "    <tr>\n",
       "      <th>1</th>\n",
       "      <td>CASH_IN</td>\n",
       "      <td>159445.40</td>\n",
       "      <td>C1979267367</td>\n",
       "      <td>227600.92</td>\n",
       "      <td>387046.31</td>\n",
       "      <td>C1177644576</td>\n",
       "      <td>751211.13</td>\n",
       "      <td>591765.73</td>\n",
       "      <td>0</td>\n",
       "      <td>0</td>\n",
       "    </tr>\n",
       "    <tr>\n",
       "      <th>2</th>\n",
       "      <td>CASH_IN</td>\n",
       "      <td>77739.33</td>\n",
       "      <td>C1886966268</td>\n",
       "      <td>2040.00</td>\n",
       "      <td>79779.33</td>\n",
       "      <td>C1677904805</td>\n",
       "      <td>50056.00</td>\n",
       "      <td>2532.04</td>\n",
       "      <td>0</td>\n",
       "      <td>0</td>\n",
       "    </tr>\n",
       "    <tr>\n",
       "      <th>3</th>\n",
       "      <td>CASH_OUT</td>\n",
       "      <td>135334.88</td>\n",
       "      <td>C312314421</td>\n",
       "      <td>48786.00</td>\n",
       "      <td>0.00</td>\n",
       "      <td>C503930792</td>\n",
       "      <td>0.00</td>\n",
       "      <td>135334.88</td>\n",
       "      <td>0</td>\n",
       "      <td>0</td>\n",
       "    </tr>\n",
       "    <tr>\n",
       "      <th>4</th>\n",
       "      <td>CASH_IN</td>\n",
       "      <td>118393.70</td>\n",
       "      <td>C728959033</td>\n",
       "      <td>50962.00</td>\n",
       "      <td>169355.70</td>\n",
       "      <td>C279942911</td>\n",
       "      <td>0.00</td>\n",
       "      <td>167607.91</td>\n",
       "      <td>0</td>\n",
       "      <td>0</td>\n",
       "    </tr>\n",
       "  </tbody>\n",
       "</table>\n",
       "</div>"
      ],
      "text/plain": [
       "       type     amount     nameOrig  oldbalanceOrg  newbalanceOrig  \\\n",
       "0   CASH_IN   63516.66     C4651324       54465.00       117981.66   \n",
       "1   CASH_IN  159445.40  C1979267367      227600.92       387046.31   \n",
       "2   CASH_IN   77739.33  C1886966268        2040.00        79779.33   \n",
       "3  CASH_OUT  135334.88   C312314421       48786.00            0.00   \n",
       "4   CASH_IN  118393.70   C728959033       50962.00       169355.70   \n",
       "\n",
       "      nameDest  oldbalanceDest  newbalanceDest  isFraud  isFlaggedFraud  \n",
       "0  C1850473537            0.00            0.00        0               0  \n",
       "1  C1177644576       751211.13       591765.73        0               0  \n",
       "2  C1677904805        50056.00         2532.04        0               0  \n",
       "3   C503930792            0.00       135334.88        0               0  \n",
       "4   C279942911            0.00       167607.91        0               0  "
      ]
     },
     "execution_count": 19,
     "metadata": {},
     "output_type": "execute_result"
    }
   ],
   "source": [
    "# import data \n",
    "transactions = pd.read_csv(\"../data/sample.csv\")\n",
    "\n",
    "transactions.head()"
   ]
  },
  {
   "cell_type": "code",
   "execution_count": 21,
   "id": "a6ebe601",
   "metadata": {},
   "outputs": [
    {
     "name": "stdout",
     "output_type": "stream",
     "text": [
      "Shape of transactions data: (10000, 10)\n",
      "\n",
      "Transactions data types:\n",
      " type               object\n",
      "amount            float64\n",
      "nameOrig           object\n",
      "oldbalanceOrg     float64\n",
      "newbalanceOrig    float64\n",
      "nameDest           object\n",
      "oldbalanceDest    float64\n",
      "newbalanceDest    float64\n",
      "isFraud             int64\n",
      "isFlaggedFraud      int64\n",
      "dtype: object\n",
      "             amount  oldbalanceOrg  newbalanceOrig  oldbalanceDest  \\\n",
      "count  1.000000e+04   1.000000e+04    1.000000e+04    1.000000e+04   \n",
      "mean   1.833531e+05   8.667190e+05    8.876482e+05    1.080919e+06   \n",
      "std    6.609145e+05   2.995406e+06    3.029416e+06    3.172576e+06   \n",
      "min    0.000000e+00   0.000000e+00    0.000000e+00    0.000000e+00   \n",
      "25%    1.324366e+04   0.000000e+00    0.000000e+00    0.000000e+00   \n",
      "50%    7.686000e+04   1.388600e+04    0.000000e+00    1.381296e+05   \n",
      "75%    2.062364e+05   1.064295e+05    1.411135e+05    9.429199e+05   \n",
      "max    3.738763e+07   3.110404e+07    3.118868e+07    1.386999e+08   \n",
      "\n",
      "       newbalanceDest       isFraud  isFlaggedFraud  \n",
      "count    1.000000e+04  10000.000000         10000.0  \n",
      "mean     1.205147e+06      0.001500             0.0  \n",
      "std      3.481457e+06      0.038703             0.0  \n",
      "min      0.000000e+00      0.000000             0.0  \n",
      "25%      0.000000e+00      0.000000             0.0  \n",
      "50%      2.192693e+05      0.000000             0.0  \n",
      "75%      1.106610e+06      0.000000             0.0  \n",
      "max      1.389022e+08      1.000000             0.0  \n",
      "Rows and columns: (10000, 10)\n"
     ]
    }
   ],
   "source": [
    "# TODO: view the shape of your data\n",
    "print(\"Shape of transactions data:\", transactions.shape)\n",
    "print(\"\\nTransactions data types:\\n\", transactions.dtypes)\n",
    "print(transactions.describe())\n",
    "print(\"Rows and columns:\", transactions.shape)\n"
   ]
  },
  {
   "cell_type": "code",
   "execution_count": 22,
   "id": "4884101d",
   "metadata": {},
   "outputs": [
    {
     "data": {
      "image/png": "[encoded data removed]",
      "text/plain": [
       "<Figure size 640x480 with 1 Axes>"
      ]
     },
     "metadata": {},
     "output_type": "display_data"
    }
   ],
   "source": [
    "# TODO: Begin your EDA\n",
    "# Plot transaction types\n",
    "sns.countplot(x='type', data=transactions)\n",
    "plt.title(\"Transaction Types\")\n",
    "plt.xticks(rotation=45)\n",
    "plt.show()"
   ]
  },
  {
   "cell_type": "code",
   "execution_count": 23,
   "id": "841fcb24",
   "metadata": {},
   "outputs": [
    {
     "name": "stdout",
     "output_type": "stream",
     "text": [
      "\n",
      "Fraudulent vs Non-Fraudulent:\n",
      "isFraud\n",
      "0    9985\n",
      "1      15\n",
      "Name: count, dtype: int64\n"
     ]
    }
   ],
   "source": [
    "# # Count of fraud vs non-fraud\n",
    "print(\"\\nFraudulent vs Non-Fraudulent:\")\n",
    "print(transactions['isFraud'].value_counts())\n"
   ]
  },
  {
   "cell_type": "code",
   "execution_count": 24,
   "id": "b027a861",
   "metadata": {},
   "outputs": [
    {
     "data": {
      "image/png": "[encoded data removed]",
      "text/plain": [
       "<Figure size 640x480 with 1 Axes>"
      ]
     },
     "metadata": {},
     "output_type": "display_data"
    }
   ],
   "source": [
    "# Plot fraud distribution\n",
    "sns.countplot(x='isFraud', data=transactions)\n",
    "plt.title(\"Fraud Distribution (0 = Not Fraud, 1 = Fraud)\")\n",
    "plt.show()"
   ]
  },
  {
   "cell_type": "code",
   "execution_count": 25,
   "id": "5a539ca8",
   "metadata": {},
   "outputs": [
    {
     "name": "stdout",
     "output_type": "stream",
     "text": [
      "\n",
      "Fraud by transaction type:\n",
      "type\n",
      "CASH_OUT    9\n",
      "TRANSFER    6\n",
      "Name: count, dtype: int64\n"
     ]
    }
   ],
   "source": [
    "# Which transaction types are most often fraud?\n",
    "fraud_by_type = transactions[transactions['isFraud'] == 1]['type'].value_counts()\n",
    "print(\"\\nFraud by transaction type:\")\n",
    "print(fraud_by_type)\n"
   ]
  },
  {
   "cell_type": "code",
   "execution_count": 26,
   "id": "30de4fae",
   "metadata": {},
   "outputs": [
    {
     "data": {
      "image/png": "[encoded data removed]",
      "text/plain": [
       "<Figure size 640x480 with 1 Axes>"
      ]
     },
     "metadata": {},
     "output_type": "display_data"
    }
   ],
   "source": [
    "# Plot fraud by type\n",
    "fraud_by_type.plot(kind='bar')\n",
    "plt.title(\"Fraud Count by Type\")\n",
    "plt.ylabel(\"Fraud Count\")\n",
    "plt.show()"
   ]
  },
  {
   "cell_type": "markdown",
   "id": "5a6d360d",
   "metadata": {},
   "source": [
    "## Reflections\n",
    "\n",
    "Answer each question based on the visualizations that you've generated.\n",
    "\n",
    "Remember, you must justify your answers with proof."
   ]
  },
  {
   "cell_type": "markdown",
   "id": "4702d01d",
   "metadata": {},
   "source": [
    "### Q1\n",
    "\n",
    "Take a closer look at the numeric features in your dataset. How are these values distributed and what might this tell you about how most transactions behave compared to a few **rare** ones?\n",
    "\n",
    "**Hint**: Consider using visualizations that highlight frequency across value ranges.\n",
    "\n",
    "Most transactions in the dataset are non-fraudulent, with less than 0.2% labeled as fraud. This high class imbalance is important to keep in mind for modeling and may require techniques like resampling or using class weights to improve detection performance."
   ]
  },
  {
   "cell_type": "markdown",
   "id": "1699ba71",
   "metadata": {},
   "source": [
    "### Q2\n",
    "\n",
    "When comparing different numerical features against one another, do any interesting patterns emerge for transactions marked as fraudulent? Are there particular regions or ranges where these transactions seem to concentrate?\n",
    "\n",
    "**Hint**: Try comparing two numeric features at a time while distinguishing between fraud and non-fraud. Use visual cues to spot clusters or anomalies.\n",
    "\n",
    "Yes, frauds usually show up when the transaction amounts are really high. When you plot things like \"amount\" vs. account balances, you’ll see that most fraud cases bunch together at the upper end—high amounts and big jumps in balances, which you don’t see much with regular transactions."
   ]
  },
  {
   "cell_type": "markdown",
   "id": "561cffc4",
   "metadata": {},
   "source": [
    "### Q3\n",
    "\n",
    "How do types of transaction relate to the typical amounts involved? Are some types of transactions consistently larger or smaller than others?\n",
    "\n",
    "**Hint**: Break the dataset down by transaction type and compare summary statistics.\n",
    "\n",
    "Yes, frauds usually show up when the transaction amounts are really high. When you plot things like \"amount\" vs. account balances, you’ll see that most fraud cases bunch together at the upper end—high amounts and big jumps in balances, which you don’t see much with regular transactions."
   ]
  },
  {
   "cell_type": "markdown",
   "id": "211b2b6a",
   "metadata": {},
   "source": [
    "### Q4\n",
    "\n",
    "Do transaction amounts vary when you compare fraudulent and non-fraudulent transactions across different transaction types? What patterns emerge when you look at both fraud status and transaction type together?\n",
    "\n",
    "**Hint**:  Try summarizing average transaction amounts by both fraud label and transaction type to compare across categories.\n",
    "\n",
    "The system’s fraud flag doesn’t work very well. Most transactions flagged as fraud are actually not fraud, and many real frauds are not flagged at all. So, it misses a lot of fraud and also wrongly flags normal transactions. This means the current flag is not reliable for detecting fraud. The system needs better methods, like smarter models that look at more details, to spot fraud more accurately."
   ]
  },
  {
   "cell_type": "markdown",
   "id": "c5b31047",
   "metadata": {},
   "source": [
    "## Q5\n",
    "\n",
    "Consider how well the system's built-in fraud flag (`isFlaggedFraud`) aligns with actual fraudulent activity. Are there mismatches? What does this tell you about the system's current performance?\n",
    "\n",
    "**Hint**: Try organizing the data in a way that shows how often flagged transactions are truly fraudulent and how often fraud goes unflagged.\n",
    "\n",
    "The system’s fraud flag needs major improvement. Better detection methods, like smarter machine learning models that use more data patterns, are needed to accurately spot real frauds and avoid false alarms."
   ]
  }
 ],
 "metadata": {
  "kernelspec": {
   "display_name": "ds",
   "language": "python",
   "name": "python3"
  },
  "language_info": {
   "codemirror_mode": {
    "name": "ipython",
    "version": 3
   },
   "file_extension": ".py",
   "mimetype": "text/x-python",
   "name": "python",
   "nbconvert_exporter": "python",
   "pygments_lexer": "ipython3",
   "version": "3.8.20"
  }
 },
 "nbformat": 4,
 "nbformat_minor": 5
}
